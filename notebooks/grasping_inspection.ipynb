{
 "cells": [
  {
   "cell_type": "code",
   "execution_count": 1,
   "id": "574cd213",
   "metadata": {},
   "outputs": [
    {
     "name": "stdout",
     "output_type": "stream",
     "text": [
      "Keys in archive: ['scores', 'grasps']\n"
     ]
    }
   ],
   "source": [
    "import numpy as np\n",
    "\n",
    "data = np.load(\"../data/grasp_sample/03948459/4dcc11b6acc758b1429a1687ed6390ec/1/recording.npz\")\n",
    "print(\"Keys in archive:\", data.files)\n"
   ]
  },
  {
   "cell_type": "code",
   "execution_count": 5,
   "id": "c0a3de5c",
   "metadata": {},
   "outputs": [
    {
     "name": "stdout",
     "output_type": "stream",
     "text": [
      "grasp shape: (24, 19) | dtype: float64\n",
      "score shape: (24,) | dtype: float64\n"
     ]
    }
   ],
   "source": [
    "grasps = data['grasps']\n",
    "scores = data['scores']\n",
    "print(\"grasp shape:\", grasps.shape, \"| dtype:\", grasps.dtype)\n",
    "print(\"score shape:\", scores.shape, \"| dtype:\", scores.dtype)\n"
   ]
  },
  {
   "cell_type": "code",
   "execution_count": 7,
   "id": "d35fe342",
   "metadata": {},
   "outputs": [
    {
     "data": {
      "text/plain": [
       "array([15.01857579, 13.59119639,  0.68378524, 13.38555485, 13.09158432,\n",
       "        2.99917214,  9.33786626,  6.09154136, -1.5       , 10.46574937,\n",
       "        8.46684097,  0.05473409, 12.42279042,  6.96199049,  4.80515163,\n",
       "        9.77370875,  8.48741917,  7.23995657,  7.46014123,  3.79224897,\n",
       "        2.85829304, 13.58156928, 10.7889316 ,  6.90556993])"
      ]
     },
     "execution_count": 7,
     "metadata": {},
     "output_type": "execute_result"
    }
   ],
   "source": [
    "score"
   ]
  },
  {
   "cell_type": "code",
   "execution_count": null,
   "id": "9eb9e8ce",
   "metadata": {},
   "outputs": [],
   "source": []
  }
 ],
 "metadata": {
  "kernelspec": {
   "display_name": ".venv",
   "language": "python",
   "name": "python3"
  },
  "language_info": {
   "codemirror_mode": {
    "name": "ipython",
    "version": 3
   },
   "file_extension": ".py",
   "mimetype": "text/x-python",
   "name": "python",
   "nbconvert_exporter": "python",
   "pygments_lexer": "ipython3",
   "version": "3.10.17"
  }
 },
 "nbformat": 4,
 "nbformat_minor": 5
}
