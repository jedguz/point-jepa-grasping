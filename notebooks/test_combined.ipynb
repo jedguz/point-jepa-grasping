{
 "cells": [
  {
   "cell_type": "code",
   "execution_count": 1,
   "id": "8fdf1b50",
   "metadata": {},
   "outputs": [
    {
     "name": "stdout",
     "output_type": "stream",
     "text": [
      "✅ Both imports resolve!\n"
     ]
    },
    {
     "name": "stderr",
     "output_type": "stream",
     "text": [
      "/home/borispetrovic/.local/lib/python3.10/site-packages/timm/models/layers/__init__.py:48: FutureWarning: Importing from timm.models.layers is deprecated, please import via timm.layers\n",
      "  warnings.warn(f\"Importing from {__name__} is deprecated, please import via timm.layers\", FutureWarning)\n"
     ]
    }
   ],
   "source": [
    "import sys\n",
    "from pathlib import Path\n",
    "\n",
    "# Add the src directory to the Python path\n",
    "sys.path.append(str(Path().resolve().parent / 'src'))\n",
    "\n",
    "import torch\n",
    "import numpy as np\n",
    "\n",
    "from models.encoders.jepa3d_wrapper import JEPA3DEncoderWrapper\n",
    "from ext.jepa3d.models.encoder_3djepa import Encoder3DJEPA\n",
    "from ext.point2vec.tokenizer import PointCloudTokenizer\n",
    "\n",
    "print(\"✅ Both imports resolve!\")\n"
   ]
  }
 ],
 "metadata": {
  "kernelspec": {
   "display_name": "Python 3",
   "language": "python",
   "name": "python3"
  },
  "language_info": {
   "codemirror_mode": {
    "name": "ipython",
    "version": 3
   },
   "file_extension": ".py",
   "mimetype": "text/x-python",
   "name": "python",
   "nbconvert_exporter": "python",
   "pygments_lexer": "ipython3",
   "version": "3.10.17"
  }
 },
 "nbformat": 4,
 "nbformat_minor": 5
}
