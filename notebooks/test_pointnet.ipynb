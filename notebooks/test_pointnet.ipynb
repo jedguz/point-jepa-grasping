{
 "cells": [
  {
   "cell_type": "markdown",
   "id": "5e979743",
   "metadata": {},
   "source": [
    "# 🧪 Test the PointcloudTokenizer\n",
    "Imports `PointcloudTokenizer` which builds tokens for pointcloud patches.\n",
    "\n",
    "Extracts the pretrained weights for the whole pretrained point2vec pipeline.\n",
    "\n",
    "Obtains basic initial patch embeddings for a loaded pointcloud."
   ]
  },
  {
   "cell_type": "code",
   "execution_count": 31,
   "id": "9bae79bd",
   "metadata": {},
   "outputs": [
    {
     "name": "stdout",
     "output_type": "stream",
     "text": [
      "✅ Both imports resolve!\n"
     ]
    }
   ],
   "source": [
    "import sys\n",
    "from pathlib import Path\n",
    "\n",
    "# Add the src directory to the Python path\n",
    "sys.path.append(str(Path().resolve().parent / 'src'))\n",
    "\n",
    "import torch\n",
    "import numpy as np\n",
    "\n",
    "from ext.point2vec.point2vec.modules.pointnet import PointcloudTokenizer\n",
    "\n",
    "print(\"✅ Both imports resolve!\")\n"
   ]
  },
  {
   "cell_type": "code",
   "execution_count": null,
   "id": "7852455e",
   "metadata": {},
   "outputs": [
    {
     "name": "stdout",
     "output_type": "stream",
     "text": [
      "dict_keys(['positional_encoding.0.weight', 'positional_encoding.0.bias', 'positional_encoding.2.weight', 'positional_encoding.2.bias', 'tokenizer.embedding.first_conv.0.weight', 'tokenizer.embedding.first_conv.1.weight', 'tokenizer.embedding.first_conv.1.bias', 'tokenizer.embedding.first_conv.1.running_mean', 'tokenizer.embedding.first_conv.1.running_var', 'tokenizer.embedding.first_conv.1.num_batches_tracked', 'tokenizer.embedding.first_conv.3.weight', 'tokenizer.embedding.first_conv.3.bias', 'tokenizer.embedding.second_conv.0.weight', 'tokenizer.embedding.second_conv.1.weight', 'tokenizer.embedding.second_conv.1.bias', 'tokenizer.embedding.second_conv.1.running_mean', 'tokenizer.embedding.second_conv.1.running_var', 'tokenizer.embedding.second_conv.1.num_batches_tracked', 'tokenizer.embedding.second_conv.3.weight', 'tokenizer.embedding.second_conv.3.bias', 'encoder.blocks.0.norm1.weight', 'encoder.blocks.0.norm1.bias', 'encoder.blocks.0.attn.qkv.weight', 'encoder.blocks.0.attn.qkv.bias', 'encoder.blocks.0.attn.proj.weight', 'encoder.blocks.0.attn.proj.bias', 'encoder.blocks.0.norm2.weight', 'encoder.blocks.0.norm2.bias', 'encoder.blocks.0.mlp.fc1.weight', 'encoder.blocks.0.mlp.fc1.bias', 'encoder.blocks.0.mlp.fc2.weight', 'encoder.blocks.0.mlp.fc2.bias', 'encoder.blocks.1.norm1.weight', 'encoder.blocks.1.norm1.bias', 'encoder.blocks.1.attn.qkv.weight', 'encoder.blocks.1.attn.qkv.bias', 'encoder.blocks.1.attn.proj.weight', 'encoder.blocks.1.attn.proj.bias', 'encoder.blocks.1.norm2.weight', 'encoder.blocks.1.norm2.bias', 'encoder.blocks.1.mlp.fc1.weight', 'encoder.blocks.1.mlp.fc1.bias', 'encoder.blocks.1.mlp.fc2.weight', 'encoder.blocks.1.mlp.fc2.bias', 'encoder.blocks.2.norm1.weight', 'encoder.blocks.2.norm1.bias', 'encoder.blocks.2.attn.qkv.weight', 'encoder.blocks.2.attn.qkv.bias', 'encoder.blocks.2.attn.proj.weight', 'encoder.blocks.2.attn.proj.bias', 'encoder.blocks.2.norm2.weight', 'encoder.blocks.2.norm2.bias', 'encoder.blocks.2.mlp.fc1.weight', 'encoder.blocks.2.mlp.fc1.bias', 'encoder.blocks.2.mlp.fc2.weight', 'encoder.blocks.2.mlp.fc2.bias', 'encoder.blocks.3.norm1.weight', 'encoder.blocks.3.norm1.bias', 'encoder.blocks.3.attn.qkv.weight', 'encoder.blocks.3.attn.qkv.bias', 'encoder.blocks.3.attn.proj.weight', 'encoder.blocks.3.attn.proj.bias', 'encoder.blocks.3.norm2.weight', 'encoder.blocks.3.norm2.bias', 'encoder.blocks.3.mlp.fc1.weight', 'encoder.blocks.3.mlp.fc1.bias', 'encoder.blocks.3.mlp.fc2.weight', 'encoder.blocks.3.mlp.fc2.bias', 'encoder.blocks.4.norm1.weight', 'encoder.blocks.4.norm1.bias', 'encoder.blocks.4.attn.qkv.weight', 'encoder.blocks.4.attn.qkv.bias', 'encoder.blocks.4.attn.proj.weight', 'encoder.blocks.4.attn.proj.bias', 'encoder.blocks.4.norm2.weight', 'encoder.blocks.4.norm2.bias', 'encoder.blocks.4.mlp.fc1.weight', 'encoder.blocks.4.mlp.fc1.bias', 'encoder.blocks.4.mlp.fc2.weight', 'encoder.blocks.4.mlp.fc2.bias', 'encoder.blocks.5.norm1.weight', 'encoder.blocks.5.norm1.bias', 'encoder.blocks.5.attn.qkv.weight', 'encoder.blocks.5.attn.qkv.bias', 'encoder.blocks.5.attn.proj.weight', 'encoder.blocks.5.attn.proj.bias', 'encoder.blocks.5.norm2.weight', 'encoder.blocks.5.norm2.bias', 'encoder.blocks.5.mlp.fc1.weight', 'encoder.blocks.5.mlp.fc1.bias', 'encoder.blocks.5.mlp.fc2.weight', 'encoder.blocks.5.mlp.fc2.bias', 'encoder.blocks.6.norm1.weight', 'encoder.blocks.6.norm1.bias', 'encoder.blocks.6.attn.qkv.weight', 'encoder.blocks.6.attn.qkv.bias', 'encoder.blocks.6.attn.proj.weight', 'encoder.blocks.6.attn.proj.bias', 'encoder.blocks.6.norm2.weight', 'encoder.blocks.6.norm2.bias', 'encoder.blocks.6.mlp.fc1.weight', 'encoder.blocks.6.mlp.fc1.bias', 'encoder.blocks.6.mlp.fc2.weight', 'encoder.blocks.6.mlp.fc2.bias', 'encoder.blocks.7.norm1.weight', 'encoder.blocks.7.norm1.bias', 'encoder.blocks.7.attn.qkv.weight', 'encoder.blocks.7.attn.qkv.bias', 'encoder.blocks.7.attn.proj.weight', 'encoder.blocks.7.attn.proj.bias', 'encoder.blocks.7.norm2.weight', 'encoder.blocks.7.norm2.bias', 'encoder.blocks.7.mlp.fc1.weight', 'encoder.blocks.7.mlp.fc1.bias', 'encoder.blocks.7.mlp.fc2.weight', 'encoder.blocks.7.mlp.fc2.bias', 'encoder.blocks.8.norm1.weight', 'encoder.blocks.8.norm1.bias', 'encoder.blocks.8.attn.qkv.weight', 'encoder.blocks.8.attn.qkv.bias', 'encoder.blocks.8.attn.proj.weight', 'encoder.blocks.8.attn.proj.bias', 'encoder.blocks.8.norm2.weight', 'encoder.blocks.8.norm2.bias', 'encoder.blocks.8.mlp.fc1.weight', 'encoder.blocks.8.mlp.fc1.bias', 'encoder.blocks.8.mlp.fc2.weight', 'encoder.blocks.8.mlp.fc2.bias', 'encoder.blocks.9.norm1.weight', 'encoder.blocks.9.norm1.bias', 'encoder.blocks.9.attn.qkv.weight', 'encoder.blocks.9.attn.qkv.bias', 'encoder.blocks.9.attn.proj.weight', 'encoder.blocks.9.attn.proj.bias', 'encoder.blocks.9.norm2.weight', 'encoder.blocks.9.norm2.bias', 'encoder.blocks.9.mlp.fc1.weight', 'encoder.blocks.9.mlp.fc1.bias', 'encoder.blocks.9.mlp.fc2.weight', 'encoder.blocks.9.mlp.fc2.bias', 'encoder.blocks.10.norm1.weight', 'encoder.blocks.10.norm1.bias', 'encoder.blocks.10.attn.qkv.weight', 'encoder.blocks.10.attn.qkv.bias', 'encoder.blocks.10.attn.proj.weight', 'encoder.blocks.10.attn.proj.bias', 'encoder.blocks.10.norm2.weight', 'encoder.blocks.10.norm2.bias', 'encoder.blocks.10.mlp.fc1.weight', 'encoder.blocks.10.mlp.fc1.bias', 'encoder.blocks.10.mlp.fc2.weight', 'encoder.blocks.10.mlp.fc2.bias', 'encoder.blocks.11.norm1.weight', 'encoder.blocks.11.norm1.bias', 'encoder.blocks.11.attn.qkv.weight', 'encoder.blocks.11.attn.qkv.bias', 'encoder.blocks.11.attn.proj.weight', 'encoder.blocks.11.attn.proj.bias', 'encoder.blocks.11.norm2.weight', 'encoder.blocks.11.norm2.bias', 'encoder.blocks.11.mlp.fc1.weight', 'encoder.blocks.11.mlp.fc1.bias', 'encoder.blocks.11.mlp.fc2.weight', 'encoder.blocks.11.mlp.fc2.bias', 'encoder.norm.weight', 'encoder.norm.bias'])\n",
      "point2vec pretrained weights are loaded!\n"
     ]
    }
   ],
   "source": [
    "from ext.point2vec.point2vec.utils import checkpoint\n",
    "\n",
    "checkpoint_path = \"../src/ext/point2vec/pre_point2vec-epoch.799-step.64800.ckpt\"\n",
    "\n",
    "checkpoint = checkpoint.extract_model_checkpoint(checkpoint_path)\n",
    "if checkpoint_path:\n",
    "    print(checkpoint.keys())\n",
    "    print(\"point2vec pretrained weights are loaded!\")"
   ]
  },
  {
   "cell_type": "code",
   "execution_count": 36,
   "id": "b4da58e0",
   "metadata": {},
   "outputs": [
    {
     "name": "stdout",
     "output_type": "stream",
     "text": [
      "Keys in file: ['points']\n",
      "Original numpy shape: (2048, 3)\n",
      "Original numpy dtype: float32\n",
      "Tensor shape: torch.Size([2048, 3])\n",
      "Tensor dtype: torch.float32\n",
      "Tokens shape: torch.Size([1, 64, 384])\n",
      "Tokens dtype: torch.float32\n",
      "Centers shape: torch.Size([1, 64, 3])\n",
      "Centers dtype: torch.float32\n"
     ]
    }
   ],
   "source": [
    "data = np.load('../data/pointclouds/02691156_10aa040f470500c6a66ef8df4909ded9_2048.npz')\n",
    "\n",
    "# Check what's in the file\n",
    "print(\"Keys in file:\", list(data.keys()))\n",
    "\n",
    "# Load the point cloud data (adjust key name as needed)\n",
    "pointcloud_np = data['points'] \n",
    "\n",
    "# Convert to PyTorch tensor\n",
    "pointcloud_tensor = torch.from_numpy(pointcloud_np)\n",
    "\n",
    "print(f\"Original numpy shape: {pointcloud_np.shape}\")\n",
    "print(f\"Original numpy dtype: {pointcloud_np.dtype}\")\n",
    "print(f\"Tensor shape: {pointcloud_tensor.shape}\")\n",
    "print(f\"Tensor dtype: {pointcloud_tensor.dtype}\")\n",
    "\n",
    "\n",
    "# TODO: find a way to use tokenizer.embedding pretrained weights from loaded checkpoint\n",
    "tokenizer = PointcloudTokenizer(64, 32, None ,384)\n",
    "\n",
    "tokens, centers = tokenizer(pointcloud_tensor.reshape(1, 2048, 3)) \n",
    "print(f\"Tokens shape: {tokens.shape}\")\n",
    "print(f\"Tokens dtype: {tokens.dtype}\")\n",
    "print(f\"Centers shape: {centers.shape}\")\n",
    "print(f\"Centers dtype: {centers.dtype}\")\n"
   ]
  }
 ],
 "metadata": {
  "kernelspec": {
   "display_name": "Python 3",
   "language": "python",
   "name": "python3"
  },
  "language_info": {
   "codemirror_mode": {
    "name": "ipython",
    "version": 3
   },
   "file_extension": ".py",
   "mimetype": "text/x-python",
   "name": "python",
   "nbconvert_exporter": "python",
   "pygments_lexer": "ipython3",
   "version": "3.10.17"
  }
 },
 "nbformat": 4,
 "nbformat_minor": 5
}
