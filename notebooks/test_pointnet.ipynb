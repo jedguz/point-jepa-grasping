{
 "cells": [
  {
   "cell_type": "markdown",
   "id": "5e979743",
   "metadata": {},
   "source": [
    "# 🧪 Test the PointcloudTokenizer\n",
    "Imports `PointcloudTokenizer` which builds tokens for pointcloud patches.\n",
    "\n",
    "Extracts the pretrained weights for the whole pretrained point2vec pipeline. To obtain the checkpoint, run:\n",
    "\n",
    "`wget https://github.com/kabouzeid/point2vec/releases/download/paper/pre_point2vec-epoch.799-step.64800.ckpt` \n",
    "\n",
    "Obtains basic initial patch embeddings for a loaded pointcloud."
   ]
  },
  {
   "cell_type": "code",
   "execution_count": 3,
   "id": "9bae79bd",
   "metadata": {},
   "outputs": [
    {
     "name": "stdout",
     "output_type": "stream",
     "text": [
      "✅ Both imports resolve!\n"
     ]
    }
   ],
   "source": [
    "import sys\n",
    "from pathlib import Path\n",
    "\n",
    "# sys.path = [p for p in sys.path if '/home/jguzeel_gmail_com/' not in p]\n",
    "\n",
    "# Add the src directory to the Python path\n",
    "# sys.path.append(str(Path().resolve().parent / 'src'))\n",
    "\n",
    "import torch\n",
    "import numpy as np\n",
    "\n",
    "from ext.point2vec.tokenizer import PointCloudTokenizer\n",
    "\n",
    "print(\"✅ Both imports resolve!\")\n"
   ]
  },
  {
   "cell_type": "code",
   "execution_count": null,
   "id": "7852455e",
   "metadata": {},
   "outputs": [],
   "source": [
    "from ext.point2vec.point2vec.utils import checkpoint\n",
    "\n",
    "# To download the checkpoint file, first: \n",
    "# wget https://github.com/kabouzeid/point2vec/releases/download/paper/pre_point2vec-epoch.799-step.64800.ckpt\n",
    "checkpoint_path = \"../src/ext/point2vec/pre_point2vec-epoch.799-step.64800.ckpt\"\n",
    "\n",
    "checkpoint = checkpoint.extract_model_checkpoint(checkpoint_path)\n",
    "if checkpoint_path:\n",
    "    print(checkpoint.keys())\n",
    "    print(\"point2vec pretrained weights are loaded!\")"
   ]
  },
  {
   "cell_type": "code",
   "execution_count": null,
   "id": "b4da58e0",
   "metadata": {},
   "outputs": [],
   "source": [
    "data = np.load('../data/pointclouds/02691156_10aa040f470500c6a66ef8df4909ded9_2048.npz')\n",
    "\n",
    "# Check what's in the file\n",
    "print(\"Keys in file:\", list(data.keys()))\n",
    "\n",
    "# Load the point cloud data (adjust key name as needed)\n",
    "pointcloud_np = data['points'] \n",
    "\n",
    "# Convert to PyTorch tensor\n",
    "pointcloud_tensor = torch.from_numpy(pointcloud_np)\n",
    "\n",
    "print(f\"Original numpy shape: {pointcloud_np.shape}\")\n",
    "print(f\"Original numpy dtype: {pointcloud_np.dtype}\")\n",
    "print(f\"Tensor shape: {pointcloud_tensor.shape}\")\n",
    "print(f\"Tensor dtype: {pointcloud_tensor.dtype}\")\n",
    "\n",
    "\n",
    "# TODO: find a way to use tokenizer.embedding pretrained weights from loaded checkpoint\n",
    "tokenizer = PointcloudTokenizer(64, 32, None ,384)\n",
    "\n",
    "tokens, centers = tokenizer(pointcloud_tensor.reshape(1, 2048, 3)) \n",
    "print(f\"Tokens shape: {tokens.shape}\")\n",
    "print(f\"Tokens dtype: {tokens.dtype}\")\n",
    "print(f\"Centers shape: {centers.shape}\")\n",
    "print(f\"Centers dtype: {centers.dtype}\")\n"
   ]
  }
 ],
 "metadata": {
  "kernelspec": {
   "display_name": "Python 3",
   "language": "python",
   "name": "python3"
  },
  "language_info": {
   "codemirror_mode": {
    "name": "ipython",
    "version": 3
   },
   "file_extension": ".py",
   "mimetype": "text/x-python",
   "name": "python",
   "nbconvert_exporter": "python",
   "pygments_lexer": "ipython3",
   "version": "3.10.17"
  }
 },
 "nbformat": 4,
 "nbformat_minor": 5
}
