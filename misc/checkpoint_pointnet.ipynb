{
 "cells": [
  {
   "cell_type": "code",
   "execution_count": 1,
   "id": "bd6ed217",
   "metadata": {},
   "outputs": [],
   "source": [
    "import torch"
   ]
  },
  {
   "cell_type": "code",
   "execution_count": 3,
   "id": "1855ccab",
   "metadata": {},
   "outputs": [
    {
     "name": "stderr",
     "output_type": "stream",
     "text": [
      "/var/tmp/ipykernel_130564/2898723553.py:1: FutureWarning: You are using `torch.load` with `weights_only=False` (the current default value), which uses the default pickle module implicitly. It is possible to construct malicious pickle data which will execute arbitrary code during unpickling (See https://github.com/pytorch/pytorch/blob/main/SECURITY.md#untrusted-models for more details). In a future release, the default value for `weights_only` will be flipped to `True`. This limits the functions that could be executed during unpickling. Arbitrary objects will no longer be allowed to be loaded via this mode unless they are explicitly allowlisted by the user via `torch.serialization.add_safe_globals`. We recommend you start setting `weights_only=True` for any use case where you don't have full control of the loaded file. Please open an issue on GitHub for any issues related to this experimental feature.\n",
      "  ckpt = torch.load(\"../checkpoints/pre_point2vec-epoch.799-step.64800.ckpt\", map_location=\"cpu\")\n"
     ]
    }
   ],
   "source": [
    "ckpt = torch.load(\"../checkpoints/pre_point2vec-epoch.799-step.64800.ckpt\", map_location=\"cpu\")"
   ]
  },
  {
   "cell_type": "code",
   "execution_count": null,
   "id": "2b34942d",
   "metadata": {},
   "outputs": [
    {
     "data": {
      "text/plain": [
       "['tokenizer.embedding.first_conv.0.weight',\n",
       " 'tokenizer.embedding.first_conv.1.weight',\n",
       " 'tokenizer.embedding.first_conv.1.bias',\n",
       " 'tokenizer.embedding.first_conv.1.running_mean',\n",
       " 'tokenizer.embedding.first_conv.1.running_var',\n",
       " 'tokenizer.embedding.first_conv.1.num_batches_tracked',\n",
       " 'tokenizer.embedding.first_conv.3.weight',\n",
       " 'tokenizer.embedding.first_conv.3.bias',\n",
       " 'tokenizer.embedding.second_conv.0.weight',\n",
       " 'tokenizer.embedding.second_conv.1.weight',\n",
       " 'tokenizer.embedding.second_conv.1.bias',\n",
       " 'tokenizer.embedding.second_conv.1.running_mean',\n",
       " 'tokenizer.embedding.second_conv.1.running_var',\n",
       " 'tokenizer.embedding.second_conv.1.num_batches_tracked',\n",
       " 'tokenizer.embedding.second_conv.3.weight',\n",
       " 'tokenizer.embedding.second_conv.3.bias']"
      ]
     },
     "execution_count": 6,
     "metadata": {},
     "output_type": "execute_result"
    }
   ],
   "source": [
    "# Check tokenizers\n",
    "\n",
    "sd = ckpt[\"state_dict\"]\n",
    "[k for k in sd.keys() if k.startswith(\"tokenizer\")]"
   ]
  },
  {
   "cell_type": "code",
   "execution_count": 9,
   "id": "5284910e",
   "metadata": {},
   "outputs": [
    {
     "name": "stdout",
     "output_type": "stream",
     "text": [
      "tokenizer.embedding.second_conv.0.weight torch.Size([512, 512, 1])\n",
      "tokenizer.embedding.second_conv.1.weight torch.Size([512])\n",
      "tokenizer.embedding.second_conv.1.bias torch.Size([512])\n",
      "tokenizer.embedding.second_conv.1.running_mean torch.Size([512])\n",
      "tokenizer.embedding.second_conv.1.running_var torch.Size([512])\n",
      "tokenizer.embedding.second_conv.1.num_batches_tracked torch.Size([])\n",
      "tokenizer.embedding.second_conv.3.weight torch.Size([384, 512, 1])\n",
      "tokenizer.embedding.second_conv.3.bias torch.Size([384])\n"
     ]
    }
   ],
   "source": [
    "# Check embedding dims\n",
    "\n",
    "import torch\n",
    "\n",
    "# 2) filter out just the embedding weights and print their shapes\n",
    "for name, tensor in sd.items():\n",
    "    if name.startswith(\"tokenizer.embedding.second_conv\"):\n",
    "        print(name, tensor.shape)\n"
   ]
  },
  {
   "cell_type": "code",
   "execution_count": null,
   "id": "8bb7d0e5",
   "metadata": {},
   "outputs": [],
   "source": []
  },
  {
   "cell_type": "code",
   "execution_count": null,
   "id": "3edc8c44",
   "metadata": {},
   "outputs": [],
   "source": []
  }
 ],
 "metadata": {
  "kernelspec": {
   "display_name": "Python 3",
   "language": "python",
   "name": "python3"
  },
  "language_info": {
   "codemirror_mode": {
    "name": "ipython",
    "version": 3
   },
   "file_extension": ".py",
   "mimetype": "text/x-python",
   "name": "python",
   "nbconvert_exporter": "python",
   "pygments_lexer": "ipython3",
   "version": "3.10.17"
  }
 },
 "nbformat": 4,
 "nbformat_minor": 5
}
